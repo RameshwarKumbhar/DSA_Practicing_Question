{
 "cells": [
  {
   "cell_type": "markdown",
   "id": "f04dcca8-2e5c-4c5a-bb84-542adfaf801d",
   "metadata": {},
   "source": [
    "# Question 20\n",
    "Write a function called ‘perform_hypothesis_test’ that takes two lists of numbers as input, representing two samples. The function should perform a two-sample t-test and return the p-value. Use the ‘scipy.stats’ module in Python to calculate the t-test and p-value."
   ]
  },
  {
   "cell_type": "code",
   "execution_count": 1,
   "id": "3b6c7f9a-c780-4e70-ba09-8cc9b59618eb",
   "metadata": {},
   "outputs": [
    {
     "name": "stdout",
     "output_type": "stream",
     "text": [
      "P-value: 0.7345633753718652\n"
     ]
    }
   ],
   "source": [
    "from scipy import stats\n",
    "\n",
    "def perform_hypothesis_test(p, q):\n",
    "    t_statistic, p_value = stats.ttest_ind(p, q)\n",
    "    return p_value\n",
    "\n",
    "a = [20,25,30,35,40]\n",
    "b = [11,22,33,44,55]\n",
    "p_value = perform_hypothesis_test(a, b)\n",
    "print(\"P-value:\", p_value)\n"
   ]
  }
 ],
 "metadata": {
  "kernelspec": {
   "display_name": "Python 3 (ipykernel)",
   "language": "python",
   "name": "python3"
  },
  "language_info": {
   "codemirror_mode": {
    "name": "ipython",
    "version": 3
   },
   "file_extension": ".py",
   "mimetype": "text/x-python",
   "name": "python",
   "nbconvert_exporter": "python",
   "pygments_lexer": "ipython3",
   "version": "3.10.8"
  }
 },
 "nbformat": 4,
 "nbformat_minor": 5
}
