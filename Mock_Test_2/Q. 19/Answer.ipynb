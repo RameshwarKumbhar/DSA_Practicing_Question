{
 "cells": [
  {
   "cell_type": "markdown",
   "id": "5672867f-9711-4674-a5f3-8ed96e50534b",
   "metadata": {},
   "source": [
    " # Question 19\n",
    " Write a function called ‘calculate_mean’ that takes a list of numbers as input and returns the mean (average) of the numbers. The function should calculate the mean using the sum of the numbers divided by the total count."
   ]
  },
  {
   "cell_type": "code",
   "execution_count": 1,
   "id": "07d1728a-f83c-453e-b28b-6422c7bc3587",
   "metadata": {},
   "outputs": [
    {
     "name": "stdout",
     "output_type": "stream",
     "text": [
      "Mean: 47.57142857142857\n"
     ]
    }
   ],
   "source": [
    "def mean_calculation(array):\n",
    "    total = sum(array)\n",
    "    count = len(array)\n",
    "    mean = total / count\n",
    "    return mean\n",
    "\n",
    "num = [25,46,32,15,74,45,96]\n",
    "meanValue = mean_calculation(num)\n",
    "print(\"Mean:\", meanValue)\n"
   ]
  }
 ],
 "metadata": {
  "kernelspec": {
   "display_name": "Python 3 (ipykernel)",
   "language": "python",
   "name": "python3"
  },
  "language_info": {
   "codemirror_mode": {
    "name": "ipython",
    "version": 3
   },
   "file_extension": ".py",
   "mimetype": "text/x-python",
   "name": "python",
   "nbconvert_exporter": "python",
   "pygments_lexer": "ipython3",
   "version": "3.10.8"
  }
 },
 "nbformat": 4,
 "nbformat_minor": 5
}
