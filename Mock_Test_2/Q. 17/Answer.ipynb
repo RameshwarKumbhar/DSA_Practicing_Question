{
 "cells": [
  {
   "cell_type": "markdown",
   "id": "864c347a-6d12-46c8-b479-aaff24213b99",
   "metadata": {},
   "source": [
    "# Question 17\n",
    "Write a function that takes a list of numbers as input and returns a new list containing only the even numbers from the input list. Use list comprehension to solve this problem.\n",
    "Example:\n",
    "\n",
    "Input: [1, 2, 3, 4, 5, 6, 7, 8, 9, 10]\n",
    "\n",
    "Output: [2, 4, 6, 8, 10]"
   ]
  },
  {
   "cell_type": "code",
   "execution_count": 15,
   "id": "d06495e3-c44a-4bc2-9709-53961f69f022",
   "metadata": {},
   "outputs": [
    {
     "name": "stdout",
     "output_type": "stream",
     "text": [
      "[2, 4, 6, 8, 10]\n"
     ]
    }
   ],
   "source": [
    "def even(array):\n",
    "    return [num for num in array if num % 2 ==0 ]\n",
    "array=[1,2,3,4,5,6,7,8,9,10]\n",
    "print(even(array))"
   ]
  }
 ],
 "metadata": {
  "kernelspec": {
   "display_name": "Python 3 (ipykernel)",
   "language": "python",
   "name": "python3"
  },
  "language_info": {
   "codemirror_mode": {
    "name": "ipython",
    "version": 3
   },
   "file_extension": ".py",
   "mimetype": "text/x-python",
   "name": "python",
   "nbconvert_exporter": "python",
   "pygments_lexer": "ipython3",
   "version": "3.10.8"
  }
 },
 "nbformat": 4,
 "nbformat_minor": 5
}
